{
 "cells": [
  {
   "cell_type": "code",
   "execution_count": 1,
   "metadata": {},
   "outputs": [],
   "source": [
    "import numpy as np\n",
    "import matplotlib.pyplot as plt\n",
    "import cv2"
   ]
  },
  {
   "cell_type": "code",
   "execution_count": 110,
   "metadata": {},
   "outputs": [
    {
     "name": "stdout",
     "output_type": "stream",
     "text": [
      "binary_warped.shape: (720, 1280)\n"
     ]
    },
    {
     "data": {
      "text/plain": [
       "[<matplotlib.lines.Line2D at 0x12efd8320>]"
      ]
     },
     "execution_count": 110,
     "metadata": {},
     "output_type": "execute_result"
    },
    {
     "data": {
      "image/png": "[encoded data removed]",
      "text/plain": [
       "<Figure size 432x288 with 1 Axes>"
      ]
     },
     "metadata": {
      "needs_background": "light"
     },
     "output_type": "display_data"
    }
   ],
   "source": [
    "image_name = \"intermediate_images/test5-warped-binary.jpg\"\n",
    "binary_warped = cv2.imread(image_name, cv2.IMREAD_GRAYSCALE) # IMREAD_GRAYSCALE needed b/c of: https://stackoverflow.com/questions/18870603/in-opencv-python-why-am-i-getting-3-channel-images-from-a-grayscale-image\n",
    "print(\"binary_warped.shape: {}\".format(binary_warped.shape))\n",
    "binary_warped_top_half = binary_warped[binary_warped.shape[0]//2:,:]\n",
    "\n",
    "histogram = np.sum(binary_warped_top_half, axis=0)\n",
    "plt.plot(histogram)"
   ]
  },
  {
   "cell_type": "code",
   "execution_count": 68,
   "metadata": {},
   "outputs": [
    {
     "name": "stdout",
     "output_type": "stream",
     "text": [
      "histo shape: (1280,)\n",
      "max: 0\n",
      "midpoint: 640, leftx_base: 171, rightx_base: 1112\n"
     ]
    }
   ],
   "source": [
    "\n",
    "midpoint = np.int(histogram.shape[0]//2)\n",
    "leftx_base = np.argmax(histogram[:midpoint])\n",
    "rightx_base = np.argmax(histogram[midpoint:]) + midpoint\n",
    "print(\"histo shape: {}\".format(histogram.shape))\n",
    "max_val = np.argmax(histogram[:][0])\n",
    "print(\"max: {}\".format(max_val))\n",
    "print(\"midpoint: {}, leftx_base: {}, rightx_base: {}\".format(midpoint, leftx_base, rightx_base))"
   ]
  },
  {
   "cell_type": "markdown",
   "metadata": {},
   "source": [
    "## Split histogram into individual lanes"
   ]
  },
  {
   "cell_type": "code",
   "execution_count": 69,
   "metadata": {},
   "outputs": [],
   "source": [
    "\n",
    "# Create an output image to draw on and visualize the result\n",
    "out_img = np.dstack((binary_warped, binary_warped, binary_warped))*255\n",
    "# Find the peak of the left and right halves of the histogram\n",
    "# These will be the starting point for the left and right lines\n",
    "midpoint = np.int(histogram.shape[0]//2)\n",
    "leftx_base = np.argmax(histogram[:midpoint])\n",
    "rightx_base = np.argmax(histogram[midpoint:]) + midpoint"
   ]
  },
  {
   "cell_type": "markdown",
   "metadata": {},
   "source": [
    "## Set up windows and window hyperparameters\n"
   ]
  },
  {
   "cell_type": "code",
   "execution_count": 70,
   "metadata": {},
   "outputs": [],
   "source": [
    "# HYPERPARAMETERS\n",
    "# Choose the number of sliding windows\n",
    "nwindows = 9\n",
    "# Set the width of the windows +/- margin\n",
    "margin = 100\n",
    "# Set minimum number of pixels found to recenter window\n",
    "minpix = 50\n",
    "\n",
    "# Set height of windows - based on nwindows above and image shape\n",
    "window_height = np.int(binary_warped_top_half.shape[0]//nwindows)\n",
    "    \n",
    "# Identify the x and y positions of all nonzero (i.e. activated) pixels in the image\n",
    "# Returns a row_major tuple of: (y_coords, x_coords)\n",
    "nonzero = binary_warped_top_half.nonzero()\n",
    "nonzeroy = np.array(nonzero[0])\n",
    "nonzerox = np.array(nonzero[1])\n",
    "\n",
    "# Current positions to be updated later for each window in nwindows\n",
    "leftx_current = leftx_base\n",
    "rightx_current = rightx_base\n",
    "\n",
    "# Create empty lists to receive left and right lane pixel indices\n",
    "left_lane_inds = []\n",
    "right_lane_inds = []"
   ]
  },
  {
   "cell_type": "code",
   "execution_count": 31,
   "metadata": {},
   "outputs": [
    {
     "name": "stdout",
     "output_type": "stream",
     "text": [
      "binary_warped_top_half.shape: (360, 1280)\n",
      "21038\n"
     ]
    }
   ],
   "source": [
    "print(\"binary_warped_top_half.shape: {}\".format(binary_warped_top_half.shape))\n",
    "print(len(binary_warped_top_half.nonzero()[0]))\n"
   ]
  },
  {
   "cell_type": "markdown",
   "metadata": {},
   "source": [
    "## Iterate through nwindows to track curvature"
   ]
  },
  {
   "cell_type": "markdown",
   "metadata": {},
   "source": [
    "- Loop through each window in `nwindows`\n",
    "- Find the boundaries of our current window. This is based on a combination of the current window's starting point (`leftx_current` and `rightx_current`), as well as the `margin` you set in the hyperparameters.\n",
    "- Use `cv2.rectangle` to draw these window boundaries onto our visualization image out_img. This is required for the quiz, but you can skip this step in practice if you don't need to visualize where the windows are.\n",
    "- Now that we know the boundaries of our window, find out which activated pixels from `nonzeroy` and `nonzerox` above actually fall into the window.\n",
    "- Append these to our lists `left_lane_inds` and `right_lane_inds`.\n",
    "- If the number of pixels you found in Step 4 are greater than your hyperparameter minpix, re-center our window (i.e. `leftx_current` or `rightx_current`) based on the mean position of these pixels."
   ]
  },
  {
   "cell_type": "code",
   "execution_count": 71,
   "metadata": {},
   "outputs": [
    {
     "name": "stdout",
     "output_type": "stream",
     "text": [
      "binary_warped_top_half.shape: (360, 1280)\n",
      "left_lane_bottom_left: (71, 720), left_lane_top_right: (271, 680)\n"
     ]
    },
    {
     "data": {
      "text/plain": [
       "<matplotlib.image.AxesImage at 0x12c396e48>"
      ]
     },
     "execution_count": 71,
     "metadata": {},
     "output_type": "execute_result"
    },
    {
     "data": {
      "image/png": "[encoded data removed]",
      "text/plain": [
       "<Figure size 432x288 with 1 Axes>"
      ]
     },
     "metadata": {
      "needs_background": "light"
     },
     "output_type": "display_data"
    }
   ],
   "source": [
    "# Experiment with a single window\n",
    "\n",
    "print(\"binary_warped_top_half.shape: {}\".format(binary_warped_top_half.shape))\n",
    "window = 9\n",
    "shift_y = binary_warped_top_half.shape[0]\n",
    "\n",
    "left_lane_bottom_left_pt_y = int(window * window_height) + shift_y\n",
    "left_lane_bottom_left_pt_x = int(leftx_current - margin)  \n",
    "left_lane_top_right_y = int((window * window_height) - window_height) + shift_y\n",
    "left_lane_top_right_x = int(leftx_current + margin)\n",
    "\n",
    "left_lane_bottom_left = (left_lane_bottom_left_pt_x, left_lane_bottom_left_pt_y)\n",
    "left_lane_top_right = (left_lane_top_right_x, left_lane_top_right_y)\n",
    "\n",
    "print(\"left_lane_bottom_left: {}, left_lane_top_right: {}\".format(left_lane_bottom_left, left_lane_top_right))\n",
    "cv2.rectangle(out_img, left_lane_bottom_left, left_lane_top_right, 255, 5)\n",
    "plt.imshow(out_img)"
   ]
  },
  {
   "cell_type": "code",
   "execution_count": 72,
   "metadata": {},
   "outputs": [],
   "source": [
    "# Helper function to find out which activated \n",
    "# pixels from nonzeroy and nonzerox above actually fall into the window.\n",
    "def get_activated_window(pt1, pt2, nonzero_pts):\n",
    "\n",
    "    # find min x coord\n",
    "    min_x = min(pt1[0], pt2[0])\n",
    "    \n",
    "    # find max x coord\n",
    "    max_x = max(pt1[0], pt2[0])\n",
    "    \n",
    "    # find min y coord\n",
    "    min_y = min(pt1[1], pt2[1])\n",
    "    \n",
    "    # find max y coord\n",
    "    max_y = max(pt1[1], pt2[1])\n",
    "\n",
    "    # return filtered nonzero tuple where points fall within window\n",
    "    nonzero_filtered = [nonzero_pt for nonzero_pt in np.transpose(nonzero_pts) \n",
    "                        if (nonzero_pt[0] >= min_y and \n",
    "                            nonzero_pt[0] <= max_y and\n",
    "                            nonzero_pt[1] >= min_x and\n",
    "                            nonzero_pt[1] <= max_x) ]\n",
    "    \n",
    "    # print(\"min_x: {} max_x: {} min_y: {} max_y: {}\".format(min_x, max_x, min_y, max_y))\n",
    "                                     \n",
    "    return nonzero_filtered\n"
   ]
  },
  {
   "cell_type": "code",
   "execution_count": 73,
   "metadata": {},
   "outputs": [],
   "source": [
    "def get_updated_window_center(\n",
    "        current_window_center,\n",
    "        pt1, \n",
    "        pt2, \n",
    "        activated,\n",
    "        is_left):\n",
    "    \n",
    "    if len(activated) < minpix:\n",
    "        return current_window_center\n",
    "        \n",
    "    # Loop over all the coords in activated and average the X coord \n",
    "    x_activated = [pt[1] for pt in activated]\n",
    "    new_base = np.int(np.mean(x_activated))\n",
    "    \n",
    "    if is_left:\n",
    "        print(\"changing left window center from {} -> {}\".format(current_window_center, new_base))\n",
    "\n",
    "        return new_base\n",
    "    else:\n",
    "        print(\"changing right window center from {} -> {}\".format(current_window_center, new_base))\n",
    "\n",
    "        return new_base\n",
    "    \n",
    "    "
   ]
  },
  {
   "cell_type": "code",
   "execution_count": 80,
   "metadata": {},
   "outputs": [
    {
     "name": "stdout",
     "output_type": "stream",
     "text": [
      "len(activated_left_lane): 1143\n",
      "len(activated_right_lane): 0\n",
      "changing left window center from 191 -> 169\n",
      "left_lane_bottom_left: (91, 680) left_lane_top_right: (291, 720)\n",
      "right_lane_bottom_left: (1002, 680) right_lane_top_right: (1202, 720)\n",
      "len(activated_left_lane): 1644\n",
      "len(activated_right_lane): 0\n",
      "changing left window center from 169 -> 170\n",
      "left_lane_bottom_left: (69, 640) left_lane_top_right: (269, 680)\n",
      "right_lane_bottom_left: (1002, 640) right_lane_top_right: (1202, 680)\n",
      "len(activated_left_lane): 2118\n",
      "len(activated_right_lane): 248\n",
      "changing left window center from 170 -> 181\n",
      "changing right window center from 1102 -> 1122\n",
      "left_lane_bottom_left: (70, 600) left_lane_top_right: (270, 640)\n",
      "right_lane_bottom_left: (1002, 600) right_lane_top_right: (1202, 640)\n",
      "len(activated_left_lane): 1937\n",
      "len(activated_right_lane): 954\n",
      "changing left window center from 181 -> 177\n",
      "changing right window center from 1122 -> 1118\n",
      "left_lane_bottom_left: (81, 560) left_lane_top_right: (281, 600)\n",
      "right_lane_bottom_left: (1022, 560) right_lane_top_right: (1222, 600)\n",
      "len(activated_left_lane): 1841\n",
      "len(activated_right_lane): 933\n",
      "changing left window center from 177 -> 180\n",
      "changing right window center from 1118 -> 1114\n",
      "left_lane_bottom_left: (77, 520) left_lane_top_right: (277, 560)\n",
      "right_lane_bottom_left: (1018, 520) right_lane_top_right: (1218, 560)\n",
      "len(activated_left_lane): 2058\n",
      "len(activated_right_lane): 902\n",
      "changing left window center from 180 -> 186\n",
      "changing right window center from 1114 -> 1110\n",
      "left_lane_bottom_left: (80, 480) left_lane_top_right: (280, 520)\n",
      "right_lane_bottom_left: (1014, 480) right_lane_top_right: (1214, 520)\n",
      "len(activated_left_lane): 2005\n",
      "len(activated_right_lane): 818\n",
      "changing left window center from 186 -> 187\n",
      "changing right window center from 1110 -> 1105\n",
      "left_lane_bottom_left: (86, 440) left_lane_top_right: (286, 480)\n",
      "right_lane_bottom_left: (1010, 440) right_lane_top_right: (1210, 480)\n",
      "len(activated_left_lane): 2260\n",
      "len(activated_right_lane): 442\n",
      "changing left window center from 187 -> 189\n",
      "changing right window center from 1105 -> 1102\n",
      "left_lane_bottom_left: (87, 400) left_lane_top_right: (287, 440)\n",
      "right_lane_bottom_left: (1005, 400) right_lane_top_right: (1205, 440)\n",
      "len(activated_left_lane): 2235\n",
      "len(activated_right_lane): 0\n",
      "changing left window center from 189 -> 191\n",
      "left_lane_bottom_left: (89, 360) left_lane_top_right: (289, 400)\n",
      "right_lane_bottom_left: (1002, 360) right_lane_top_right: (1202, 400)\n"
     ]
    },
    {
     "data": {
      "text/plain": [
       "<matplotlib.image.AxesImage at 0x12c3e1470>"
      ]
     },
     "execution_count": 80,
     "metadata": {},
     "output_type": "execute_result"
    },
    {
     "data": {
      "image/png": "[encoded data removed]",
      "text/plain": [
       "<Figure size 432x288 with 1 Axes>"
      ]
     },
     "metadata": {
      "needs_background": "light"
     },
     "output_type": "display_data"
    }
   ],
   "source": [
    "# Create empty lists to receive left and right lane pixel coords\n",
    "left_lane_coords = []\n",
    "right_lane_coords = []\n",
    "\n",
    "shift_y = binary_warped_top_half.shape[0]\n",
    "for window in reversed(range(nwindows)):\n",
    "    \n",
    "    # this is the \"bottom\" in the reference frame of the image coord system, but \n",
    "    # the \"top\" if you're looking at it in the (flipped) screen coord system.\n",
    "    win_y_bottom = window * window_height + shift_y\n",
    "    \n",
    "    # conversely, this is the \"top\" in the reference frame of the image coord system\n",
    "    win_y_top = (window+1) * window_height + shift_y\n",
    "    \n",
    "    # Calculate left left x coords\n",
    "    left_lane_bottom_left_pt_x = int(leftx_current - margin)  \n",
    "    left_lane_top_right_x = int(leftx_current + margin)\n",
    "\n",
    "    # Calculate left lane rectangle points\n",
    "    left_lane_bottom_left = (left_lane_bottom_left_pt_x, win_y_bottom)\n",
    "    left_lane_top_right = (left_lane_top_right_x, win_y_top)\n",
    "    \n",
    "    # Calculate right light x coords\n",
    "    right_lane_bottom_left_pt_x = int(rightx_current - margin)  \n",
    "    right_lane_top_right_x = int(rightx_current + margin)\n",
    "\n",
    "    # Calculate right lane rectangle points\n",
    "    right_lane_bottom_left = (right_lane_bottom_left_pt_x, win_y_bottom)\n",
    "    right_lane_top_right = (right_lane_top_right_x, win_y_top)\n",
    "    \n",
    "    # Now that we know the boundaries of our window, find out which activated \n",
    "    # pixels from nonzeroy and nonzerox above actually fall into the window.\n",
    "    activated_left_lane = get_activated_window(\n",
    "        left_lane_bottom_left, \n",
    "        left_lane_top_right, \n",
    "        binary_warped.nonzero())\n",
    "    print(\"len(activated_left_lane): {}\".format(len(activated_left_lane)))\n",
    "    \n",
    "    activated_right_lane = get_activated_window(\n",
    "        right_lane_bottom_left, \n",
    "        right_lane_top_right, \n",
    "        binary_warped.nonzero())\n",
    "    print(\"len(activated_right_lane): {}\".format(len(activated_right_lane)))\n",
    "    \n",
    "    # Append these to our lists left_lane_inds and right_lane_inds.\n",
    "    left_lane_coords += activated_left_lane\n",
    "    right_lane_coords += activated_right_lane\n",
    "    \n",
    "    # If the number of pixels you found in Step 4 are greater than your \n",
    "    # hyperparameter minpix, re-center our window (i.e. leftx_current or rightx_current) based on the mean position of these pixels.\n",
    "    leftx_current = get_updated_window_center(\n",
    "        leftx_current,\n",
    "        left_lane_bottom_left, \n",
    "        left_lane_top_right, \n",
    "        activated_left_lane,\n",
    "        is_left=True,\n",
    "    )\n",
    "    rightx_current = get_updated_window_center(\n",
    "        rightx_current,\n",
    "        right_lane_bottom_left, \n",
    "        right_lane_top_right, \n",
    "        activated_right_lane,\n",
    "        is_left=False,\n",
    "    )\n",
    "    \n",
    "    cv2.rectangle(out_img, left_lane_bottom_left, left_lane_top_right, 255, 5)\n",
    "    cv2.rectangle(out_img, right_lane_bottom_left, right_lane_top_right, 255, 5)\n",
    "\n",
    "\n",
    "    print(\"left_lane_bottom_left: {} left_lane_top_right: {}\".format(left_lane_bottom_left, left_lane_top_right))\n",
    "    print(\"right_lane_bottom_left: {} right_lane_top_right: {}\".format(right_lane_bottom_left, right_lane_top_right))\n",
    "\n",
    "plt.imshow(out_img)"
   ]
  },
  {
   "cell_type": "markdown",
   "metadata": {},
   "source": [
    "## Fit a polynomial\n"
   ]
  },
  {
   "cell_type": "code",
   "execution_count": 82,
   "metadata": {},
   "outputs": [],
   "source": [
    "# Extract left and right line pixel positions\n",
    "leftx = [pt[1] for pt in left_lane_coords]\n",
    "lefty = [pt[0] for pt in left_lane_coords]\n",
    "rightx = [pt[1] for pt in right_lane_coords]\n",
    "righty = [pt[0] for pt in right_lane_coords]"
   ]
  },
  {
   "cell_type": "code",
   "execution_count": 90,
   "metadata": {},
   "outputs": [
    {
     "name": "stdout",
     "output_type": "stream",
     "text": [
      "[ 1.33482178e-04 -4.40450354e-02  1.28229174e-02  1.17097131e+03]\n",
      "           3           2\n",
      "0.0001335 x - 0.04405 x + 0.01282 x + 1171\n"
     ]
    }
   ],
   "source": [
    "z = np.polyfit(leftx, lefty, 3)\n",
    "print(z)\n",
    "p = np.poly1d(z)\n",
    "print(p)"
   ]
  },
  {
   "cell_type": "code",
   "execution_count": 88,
   "metadata": {},
   "outputs": [],
   "source": [
    "xp = np.linspace(0, 1280, 100)"
   ]
  },
  {
   "cell_type": "code",
   "execution_count": 98,
   "metadata": {},
   "outputs": [
    {
     "data": {
      "image/png": "[encoded data removed]",
      "text/plain": [
       "<Figure size 432x288 with 1 Axes>"
      ]
     },
     "metadata": {
      "needs_background": "light"
     },
     "output_type": "display_data"
    }
   ],
   "source": [
    "plt.ylim(0,800)\n",
    "_ = plt.plot(leftx, lefty, '.', xp, p(xp))"
   ]
  },
  {
   "cell_type": "code",
   "execution_count": 106,
   "metadata": {},
   "outputs": [],
   "source": [
    "def fit_polynomial(binary_warped):\n",
    "   \n",
    "    # Fit a second order polynomial to each using `np.polyfit`\n",
    "    left_fit = np.polyfit(leftx, lefty, 2)\n",
    "\n",
    "    # Generate x and y values for plotting\n",
    "    ploty = np.linspace(0, binary_warped.shape[0]-1, binary_warped.shape[0] )\n",
    "    try:\n",
    "        left_fitx = left_fit[0]*ploty**2 + left_fit[1]*ploty + left_fit[2]\n",
    "    except TypeError:\n",
    "        # Avoids an error if `left` and `right_fit` are still none or incorrect\n",
    "        print('The function failed to fit a line!')\n",
    "        left_fitx = 1*ploty**2 + 1*ploty\n",
    "\n",
    "    ## Visualization ##\n",
    "    # Colors in the left and right lane regions\n",
    "    out_img[leftx, lefty] = [255, 0, 0]\n",
    "\n",
    "    # Plots the left and right polynomials on the lane lines\n",
    "    plt.plot(left_fitx, ploty, color='yellow')\n",
    "\n",
    "    return out_img"
   ]
  },
  {
   "cell_type": "code",
   "execution_count": 107,
   "metadata": {},
   "outputs": [
    {
     "data": {
      "image/png": "[encoded data removed]",
      "text/plain": [
       "<Figure size 432x288 with 1 Axes>"
      ]
     },
     "metadata": {
      "needs_background": "light"
     },
     "output_type": "display_data"
    }
   ],
   "source": [
    "fit_polynomial_result = fit_polynomial(binary_warped)"
   ]
  },
  {
   "cell_type": "markdown",
   "metadata": {},
   "source": [
    "## Using Quiz example"
   ]
  },
  {
   "cell_type": "code",
   "execution_count": 108,
   "metadata": {},
   "outputs": [],
   "source": [
    "def find_lane_pixels(binary_warped):\n",
    "    # Take a histogram of the bottom half of the image\n",
    "    histogram = np.sum(binary_warped[binary_warped.shape[0]//2:,:], axis=0)\n",
    "    # Create an output image to draw on and visualize the result\n",
    "    out_img = np.dstack((binary_warped, binary_warped, binary_warped))\n",
    "    # Find the peak of the left and right halves of the histogram\n",
    "    # These will be the starting point for the left and right lines\n",
    "    midpoint = np.int(histogram.shape[0]//2)\n",
    "    leftx_base = np.argmax(histogram[:midpoint])\n",
    "    rightx_base = np.argmax(histogram[midpoint:]) + midpoint\n",
    "\n",
    "    # HYPERPARAMETERS\n",
    "    # Choose the number of sliding windows\n",
    "    nwindows = 9\n",
    "    # Set the width of the windows +/- margin\n",
    "    margin = 100\n",
    "    # Set minimum number of pixels found to recenter window\n",
    "    minpix = 50\n",
    "\n",
    "    # Set height of windows - based on nwindows above and image shape\n",
    "    window_height = np.int(binary_warped.shape[0]//nwindows)\n",
    "    # Identify the x and y positions of all nonzero pixels in the image\n",
    "    nonzero = binary_warped.nonzero()\n",
    "    nonzeroy = np.array(nonzero[0])\n",
    "    nonzerox = np.array(nonzero[1])\n",
    "    # Current positions to be updated later for each window in nwindows\n",
    "    leftx_current = leftx_base\n",
    "    rightx_current = rightx_base\n",
    "\n",
    "    # Create empty lists to receive left and right lane pixel indices\n",
    "    left_lane_inds = []\n",
    "    right_lane_inds = []\n",
    "\n",
    "    # Step through the windows one by one\n",
    "    for window in range(nwindows):\n",
    "        # Identify window boundaries in x and y (and right and left)\n",
    "        win_y_low = binary_warped.shape[0] - (window+1)*window_height\n",
    "        win_y_high = binary_warped.shape[0] - window*window_height\n",
    "        win_xleft_low = leftx_current - margin\n",
    "        win_xleft_high = leftx_current + margin\n",
    "        win_xright_low = rightx_current - margin\n",
    "        win_xright_high = rightx_current + margin\n",
    "        \n",
    "        # Draw the windows on the visualization image\n",
    "        cv2.rectangle(out_img,(win_xleft_low,win_y_low),\n",
    "        (win_xleft_high,win_y_high),(0,255,0), 2) \n",
    "        cv2.rectangle(out_img,(win_xright_low,win_y_low),\n",
    "        (win_xright_high,win_y_high),(0,255,0), 2) \n",
    "        \n",
    "        # Identify the nonzero pixels in x and y within the window #\n",
    "        good_left_inds = ((nonzeroy >= win_y_low) & (nonzeroy < win_y_high) & \n",
    "        (nonzerox >= win_xleft_low) &  (nonzerox < win_xleft_high)).nonzero()[0]\n",
    "        good_right_inds = ((nonzeroy >= win_y_low) & (nonzeroy < win_y_high) & \n",
    "        (nonzerox >= win_xright_low) &  (nonzerox < win_xright_high)).nonzero()[0]\n",
    "        \n",
    "        # Append these indices to the lists\n",
    "        left_lane_inds.append(good_left_inds)\n",
    "        right_lane_inds.append(good_right_inds)\n",
    "        \n",
    "        # If you found > minpix pixels, recenter next window on their mean position\n",
    "        if len(good_left_inds) > minpix:\n",
    "            leftx_current = np.int(np.mean(nonzerox[good_left_inds]))\n",
    "        if len(good_right_inds) > minpix:        \n",
    "            rightx_current = np.int(np.mean(nonzerox[good_right_inds]))\n",
    "\n",
    "    # Concatenate the arrays of indices (previously was a list of lists of pixels)\n",
    "    try:\n",
    "        left_lane_inds = np.concatenate(left_lane_inds)\n",
    "        right_lane_inds = np.concatenate(right_lane_inds)\n",
    "    except ValueError:\n",
    "        # Avoids an error if the above is not implemented fully\n",
    "        pass\n",
    "\n",
    "    # Extract left and right line pixel positions\n",
    "    leftx = nonzerox[left_lane_inds]\n",
    "    lefty = nonzeroy[left_lane_inds] \n",
    "    rightx = nonzerox[right_lane_inds]\n",
    "    righty = nonzeroy[right_lane_inds]\n",
    "\n",
    "    return leftx, lefty, rightx, righty, out_img"
   ]
  },
  {
   "cell_type": "code",
   "execution_count": 113,
   "metadata": {},
   "outputs": [],
   "source": [
    "def fit_polynomial(binary_warped):\n",
    "    # Find our lane pixels first\n",
    "    leftx, lefty, rightx, righty, out_img = find_lane_pixels(binary_warped)\n",
    "\n",
    "    # Fit a second order polynomial to each using `np.polyfit`\n",
    "    left_fit = np.polyfit(lefty, leftx, 2)\n",
    "    right_fit = np.polyfit(righty, rightx, 2)\n",
    "\n",
    "    # Generate x and y values for plotting\n",
    "    ploty = np.linspace(0, binary_warped.shape[0]-1, binary_warped.shape[0] )\n",
    "    try:\n",
    "        left_fitx = left_fit[0]*ploty**2 + left_fit[1]*ploty + left_fit[2]\n",
    "        right_fitx = right_fit[0]*ploty**2 + right_fit[1]*ploty + right_fit[2]\n",
    "    except TypeError:\n",
    "        # Avoids an error if `left` and `right_fit` are still none or incorrect\n",
    "        print('The function failed to fit a line!')\n",
    "        left_fitx = 1*ploty**2 + 1*ploty\n",
    "        right_fitx = 1*ploty**2 + 1*ploty\n",
    "\n",
    "    ## Visualization ##\n",
    "    # Colors in the left and right lane regions\n",
    "    out_img[lefty, leftx] = [255, 0, 0]\n",
    "    out_img[righty, rightx] = [0, 0, 255]\n",
    "\n",
    "    # Plots the left and right polynomials on the lane lines\n",
    "    plt.plot(left_fitx, ploty, color='yellow')\n",
    "    plt.plot(right_fitx, ploty, color='yellow')\n",
    "    \n",
    "    left_points = (left_fitx, ploty)\n",
    "    right_points = (right_fitx, ploty)\n",
    "\n",
    "    return left_points, right_points, out_img\n"
   ]
  },
  {
   "cell_type": "code",
   "execution_count": 114,
   "metadata": {},
   "outputs": [
    {
     "data": {
      "text/plain": [
       "<matplotlib.image.AxesImage at 0x12ee92780>"
      ]
     },
     "execution_count": 114,
     "metadata": {},
     "output_type": "execute_result"
    },
    {
     "data": {
      "image/png": "[encoded data removed]",
      "text/plain": [
       "<Figure size 432x288 with 1 Axes>"
      ]
     },
     "metadata": {
      "needs_background": "light"
     },
     "output_type": "display_data"
    }
   ],
   "source": [
    "left_points, right_points, out_img = fit_polynomial(binary_warped)\n",
    "\n",
    "plt.imshow(out_img)"
   ]
  },
  {
   "cell_type": "code",
   "execution_count": 112,
   "metadata": {},
   "outputs": [
    {
     "name": "stdout",
     "output_type": "stream",
     "text": [
      "(720, 1280)\n"
     ]
    }
   ],
   "source": [
    "print(binary_warped.shape)"
   ]
  },
  {
   "cell_type": "code",
   "execution_count": 115,
   "metadata": {},
   "outputs": [],
   "source": [
    "# from 3rd_Party_solns/miguelangel/advanced_lane_finding.ipynb\n",
    "def draw_lane(img, warped_img, left_points, right_points, Minv):\n",
    "    # Create an image to draw the lines on\n",
    "    warp_zero = np.zeros_like(warped_img).astype(np.uint8)\n",
    "    color_warp = np.dstack((warp_zero, warp_zero, warp_zero))\n",
    "\n",
    "    # Recast the x and y points into usable format for cv2.fillPoly()\n",
    "    left_fitx = left_points[0]\n",
    "    right_fitx = right_points[0]\n",
    "    ploty = left_points[1]\n",
    "    \n",
    "    pts_left = np.array([np.transpose(np.vstack([left_fitx, ploty]))])\n",
    "    pts_right = np.array([np.flipud(np.transpose(np.vstack([right_fitx, ploty])))])\n",
    "    pts = np.hstack((pts_left, pts_right))\n",
    "\n",
    "    # Draw the lane onto the warped blank image\n",
    "    cv2.fillPoly(color_warp, np.int_([pts]), (0,255, 0))\n",
    "\n",
    "    # Warp the blank back to original image space using inverse perspective matrix (Minv)\n",
    "    newwarp = cv2.warpPerspective(color_warp, Minv, (img.shape[1], img.shape[0])) \n",
    "\n",
    "    # Combine the result with the original image\n",
    "    return cv2.addWeighted(img, 1, newwarp, 0.3, 0)"
   ]
  },
  {
   "cell_type": "code",
   "execution_count": null,
   "metadata": {},
   "outputs": [],
   "source": [
    "src_pts = np.array(\n",
    "    [[490, 482], # top left\n",
    "    [810, 482],  # top right\n",
    "    [1250, 720], # bottom right\n",
    "    [40, 720]],   # bottom left\n",
    "    dtype = \"float32\"\n",
    ")\n",
    "dest_pts = np.array(\n",
    "    [[0, 0],\n",
    "    [1280, 0],\n",
    "    [1250, 720],\n",
    "    [40, 720]],\n",
    "    dtype = \"float32\"\n",
    ")\n",
    "M_inverse = cv2.getPerspectiveTransform(dest_pts, src_pts)\n",
    "img_lane = draw_lane(img, binary_warped, left_points, right_points, M_inverse)\n"
   ]
  }
 ],
 "metadata": {
  "kernelspec": {
   "display_name": "Python 3",
   "language": "python",
   "name": "python3"
  },
  "language_info": {
   "codemirror_mode": {
    "name": "ipython",
    "version": 3
   },
   "file_extension": ".py",
   "mimetype": "text/x-python",
   "name": "python",
   "nbconvert_exporter": "python",
   "pygments_lexer": "ipython3",
   "version": "3.7.3"
  }
 },
 "nbformat": 4,
 "nbformat_minor": 2
}
