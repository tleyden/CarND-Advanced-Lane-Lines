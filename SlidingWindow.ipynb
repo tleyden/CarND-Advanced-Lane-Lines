{
 "cells": [
  {
   "cell_type": "code",
   "execution_count": 1,
   "metadata": {},
   "outputs": [],
   "source": [
    "import numpy as np\n",
    "import matplotlib.pyplot as plt\n",
    "import cv2"
   ]
  },
  {
   "cell_type": "code",
   "execution_count": 56,
   "metadata": {},
   "outputs": [
    {
     "name": "stdout",
     "output_type": "stream",
     "text": [
      "binary_warped.shape: (720, 1280)\n"
     ]
    },
    {
     "data": {
      "text/plain": [
       "[<matplotlib.lines.Line2D at 0x12c1fb668>]"
      ]
     },
     "execution_count": 56,
     "metadata": {},
     "output_type": "execute_result"
    },
    {
     "data": {
      "image/png": "[encoded data removed]",
      "text/plain": [
       "<Figure size 432x288 with 1 Axes>"
      ]
     },
     "metadata": {
      "needs_background": "light"
     },
     "output_type": "display_data"
    }
   ],
   "source": [
    "image_name = \"intermediate_images/test5-warped-binary.jpg\"\n",
    "binary_warped = cv2.imread(image_name, cv2.IMREAD_GRAYSCALE) # IMREAD_GRAYSCALE needed b/c of: https://stackoverflow.com/questions/18870603/in-opencv-python-why-am-i-getting-3-channel-images-from-a-grayscale-image\n",
    "print(\"binary_warped.shape: {}\".format(binary_warped.shape))\n",
    "binary_warped_top_half = binary_warped[binary_warped.shape[0]//2:,:]\n",
    "\n",
    "histogram = np.sum(binary_warped_top_half, axis=0)\n",
    "plt.plot(histogram)"
   ]
  },
  {
   "cell_type": "code",
   "execution_count": 57,
   "metadata": {},
   "outputs": [
    {
     "name": "stdout",
     "output_type": "stream",
     "text": [
      "histo shape: (1280,)\n",
      "max: 0\n",
      "midpoint: 640, leftx_base: 171, rightx_base: 1112\n"
     ]
    }
   ],
   "source": [
    "\n",
    "midpoint = np.int(histogram.shape[0]//2)\n",
    "leftx_base = np.argmax(histogram[:midpoint])\n",
    "rightx_base = np.argmax(histogram[midpoint:]) + midpoint\n",
    "print(\"histo shape: {}\".format(histogram.shape))\n",
    "max_val = np.argmax(histogram[:][0])\n",
    "print(\"max: {}\".format(max_val))\n",
    "print(\"midpoint: {}, leftx_base: {}, rightx_base: {}\".format(midpoint, leftx_base, rightx_base))"
   ]
  },
  {
   "cell_type": "markdown",
   "metadata": {},
   "source": [
    "## Split histogram into individual lanes"
   ]
  },
  {
   "cell_type": "code",
   "execution_count": 58,
   "metadata": {},
   "outputs": [],
   "source": [
    "\n",
    "# Create an output image to draw on and visualize the result\n",
    "out_img = np.dstack((binary_warped, binary_warped, binary_warped))*255\n",
    "# Find the peak of the left and right halves of the histogram\n",
    "# These will be the starting point for the left and right lines\n",
    "midpoint = np.int(histogram.shape[0]//2)\n",
    "leftx_base = np.argmax(histogram[:midpoint])\n",
    "rightx_base = np.argmax(histogram[midpoint:]) + midpoint"
   ]
  },
  {
   "cell_type": "markdown",
   "metadata": {},
   "source": [
    "## Set up windows and window hyperparameters\n"
   ]
  },
  {
   "cell_type": "code",
   "execution_count": 59,
   "metadata": {},
   "outputs": [],
   "source": [
    "# HYPERPARAMETERS\n",
    "# Choose the number of sliding windows\n",
    "nwindows = 9\n",
    "# Set the width of the windows +/- margin\n",
    "margin = 100\n",
    "# Set minimum number of pixels found to recenter window\n",
    "minpix = 50\n",
    "\n",
    "# Set height of windows - based on nwindows above and image shape\n",
    "window_height = np.int(binary_warped_top_half.shape[0]//nwindows)\n",
    "    \n",
    "# Identify the x and y positions of all nonzero (i.e. activated) pixels in the image\n",
    "# Returns a row_major tuple of: (y_coords, x_coords)\n",
    "nonzero = binary_warped_top_half.nonzero()\n",
    "nonzeroy = np.array(nonzero[0])\n",
    "nonzerox = np.array(nonzero[1])\n",
    "\n",
    "# Current positions to be updated later for each window in nwindows\n",
    "leftx_current = leftx_base\n",
    "rightx_current = rightx_base\n",
    "\n",
    "# Create empty lists to receive left and right lane pixel indices\n",
    "left_lane_inds = []\n",
    "right_lane_inds = []"
   ]
  },
  {
   "cell_type": "code",
   "execution_count": 31,
   "metadata": {},
   "outputs": [
    {
     "name": "stdout",
     "output_type": "stream",
     "text": [
      "binary_warped_top_half.shape: (360, 1280)\n",
      "21038\n"
     ]
    }
   ],
   "source": [
    "print(\"binary_warped_top_half.shape: {}\".format(binary_warped_top_half.shape))\n",
    "print(len(binary_warped_top_half.nonzero()[0]))\n"
   ]
  },
  {
   "cell_type": "markdown",
   "metadata": {},
   "source": [
    "## Iterate through nwindows to track curvature"
   ]
  },
  {
   "cell_type": "markdown",
   "metadata": {},
   "source": [
    "- Loop through each window in `nwindows`\n",
    "- Find the boundaries of our current window. This is based on a combination of the current window's starting point (`leftx_current` and `rightx_current`), as well as the `margin` you set in the hyperparameters.\n",
    "- Use `cv2.rectangle` to draw these window boundaries onto our visualization image out_img. This is required for the quiz, but you can skip this step in practice if you don't need to visualize where the windows are.\n",
    "- Now that we know the boundaries of our window, find out which activated pixels from `nonzeroy` and `nonzerox` above actually fall into the window.\n",
    "- Append these to our lists `left_lane_inds` and `right_lane_inds`.\n",
    "- If the number of pixels you found in Step 4 are greater than your hyperparameter minpix, re-center our window (i.e. `leftx_current` or `rightx_current`) based on the mean position of these pixels."
   ]
  },
  {
   "cell_type": "code",
   "execution_count": 51,
   "metadata": {},
   "outputs": [
    {
     "name": "stdout",
     "output_type": "stream",
     "text": [
      "binary_warped_top_half.shape: (360, 1280)\n",
      "left_lane_bottom_left: (71, 720), left_lane_top_right: (271, 680)\n"
     ]
    },
    {
     "data": {
      "text/plain": [
       "<matplotlib.image.AxesImage at 0x12b5166d8>"
      ]
     },
     "execution_count": 51,
     "metadata": {},
     "output_type": "execute_result"
    },
    {
     "data": {
      "image/png": "[encoded data removed]",
      "text/plain": [
       "<Figure size 432x288 with 1 Axes>"
      ]
     },
     "metadata": {
      "needs_background": "light"
     },
     "output_type": "display_data"
    }
   ],
   "source": [
    "# Experiment with a single window\n",
    "\n",
    "print(\"binary_warped_top_half.shape: {}\".format(binary_warped_top_half.shape))\n",
    "window = 9\n",
    "shift_y = binary_warped_top_half.shape[0]\n",
    "\n",
    "left_lane_bottom_left_pt_y = int(window * window_height) + shift_y\n",
    "left_lane_bottom_left_pt_x = int(leftx_current - margin)  \n",
    "left_lane_top_right_y = int((window * window_height) - window_height) + shift_y\n",
    "left_lane_top_right_x = int(leftx_current + margin)\n",
    "\n",
    "left_lane_bottom_left = (left_lane_bottom_left_pt_x, left_lane_bottom_left_pt_y)\n",
    "left_lane_top_right = (left_lane_top_right_x, left_lane_top_right_y)\n",
    "\n",
    "print(\"left_lane_bottom_left: {}, left_lane_top_right: {}\".format(left_lane_bottom_left, left_lane_top_right))\n",
    "cv2.rectangle(out_img, left_lane_bottom_left, left_lane_top_right, 255, 5)\n",
    "plt.imshow(out_img)"
   ]
  },
  {
   "cell_type": "code",
   "execution_count": 61,
   "metadata": {},
   "outputs": [],
   "source": [
    "# Helper function to find out which activated \n",
    "# pixels from nonzeroy and nonzerox above actually fall into the window.\n",
    "def get_activated_window(pt1, pt2, nonzero_pts):\n",
    "\n",
    "    # find min x coord\n",
    "    min_x = min(pt1[0], pt2[0])\n",
    "    \n",
    "    # find max x coord\n",
    "    max_x = max(pt1[0], pt2[0])\n",
    "    \n",
    "    # find min y coord\n",
    "    min_y = min(pt1[1], pt2[1])\n",
    "    \n",
    "    # find max y coord\n",
    "    max_y = max(pt1[1], pt2[1])\n",
    "\n",
    "    # return filtered nonzero tuple where points fall within window\n",
    "    nonzero_filtered = [nonzero_pt for nonzero_pt in np.transpose(nonzero_pts) \n",
    "                        if (nonzero_pt[0] >= min_y and \n",
    "                            nonzero_pt[0] <= max_y and\n",
    "                            nonzero_pt[1] >= min_x and\n",
    "                            nonzero_pt[1] <= max_x) ]\n",
    "    \n",
    "    # print(\"min_x: {} max_x: {} min_y: {} max_y: {}\".format(min_x, max_x, min_y, max_y))\n",
    "                                     \n",
    "    return nonzero_filtered\n"
   ]
  },
  {
   "cell_type": "code",
   "execution_count": 54,
   "metadata": {},
   "outputs": [],
   "source": [
    "def get_updated_window_center(\n",
    "        current_window_center,\n",
    "        pt1, \n",
    "        pt2, \n",
    "        activated,\n",
    "        is_left):\n",
    "    \n",
    "    \"\"\"\n",
    "            # If you found > minpix pixels, recenter next window on their mean position\n",
    "        if len(good_left_inds) > minpix:\n",
    "            leftx_current = np.int(np.mean(nonzerox[good_left_inds]))\n",
    "        if len(good_right_inds) > minpix:        \n",
    "            rightx_current = np.int(np.mean(nonzerox[good_right_inds]))\n",
    "    \"\"\"\n",
    "    \n",
    "    if len(activated) < minpix:\n",
    "        return current_window_center\n",
    "    \n",
    "    # find min y coord\n",
    "    min_y = min(pt1[1], pt2[1])\n",
    "    \n",
    "    # find max y coord\n",
    "    max_y = max(pt1[1], pt2[1])\n",
    "    \n",
    "    print(\"taking slice from {}:{}\".format(min_y, max_y))\n",
    "    binary_warped_slice = binary_warped[min_y:max_y,:]\n",
    "\n",
    "    histogram_slice = np.sum(binary_warped_slice, axis=0)\n",
    "    \n",
    "    midpoint = np.int(histogram_slice.shape[0]//2)\n",
    "    leftx_base = np.argmax(histogram_slice[:midpoint])\n",
    "    rightx_base = np.argmax(histogram_slice[midpoint:]) + midpoint\n",
    "    \n",
    "    if is_left:\n",
    "        print(\"changing left window center from {} -> {}\".format(current_window_center, leftx_base))\n",
    "\n",
    "        return leftx_base\n",
    "    else:\n",
    "        print(\"changing right window center from {} -> {}\".format(current_window_center, rightx_base))\n",
    "\n",
    "        return rightx_base\n",
    "    \n",
    "    "
   ]
  },
  {
   "cell_type": "code",
   "execution_count": 55,
   "metadata": {},
   "outputs": [
    {
     "name": "stdout",
     "output_type": "stream",
     "text": [
      "min_x: 71 max_x: 271 min_y: 680 max_y: 720\n",
      "len(activated_left_lane): 1143\n",
      "min_x: 996 max_x: 1196 min_y: 680 max_y: 720\n",
      "len(activated_right_lane): 0\n",
      "taking slice from 680:720\n",
      "changing left window center from 171 -> 166\n",
      "left_lane_bottom_left: (71, 680) left_lane_top_right: (271, 720)\n",
      "right_lane_bottom_left: (996, 680) right_lane_top_right: (1196, 720)\n",
      "min_x: 66 max_x: 266 min_y: 640 max_y: 680\n",
      "len(activated_left_lane): 1644\n",
      "min_x: 996 max_x: 1196 min_y: 640 max_y: 680\n",
      "len(activated_right_lane): 0\n",
      "taking slice from 640:680\n",
      "changing left window center from 166 -> 184\n",
      "left_lane_bottom_left: (66, 640) left_lane_top_right: (266, 680)\n",
      "right_lane_bottom_left: (996, 640) right_lane_top_right: (1196, 680)\n",
      "min_x: 84 max_x: 284 min_y: 600 max_y: 640\n",
      "len(activated_left_lane): 2118\n",
      "min_x: 996 max_x: 1196 min_y: 600 max_y: 640\n",
      "len(activated_right_lane): 248\n",
      "taking slice from 600:640\n",
      "changing left window center from 184 -> 192\n",
      "taking slice from 600:640\n",
      "changing right window center from 1096 -> 1112\n",
      "left_lane_bottom_left: (84, 600) left_lane_top_right: (284, 640)\n",
      "right_lane_bottom_left: (996, 600) right_lane_top_right: (1196, 640)\n",
      "min_x: 92 max_x: 292 min_y: 560 max_y: 600\n",
      "len(activated_left_lane): 1937\n",
      "min_x: 1012 max_x: 1212 min_y: 560 max_y: 600\n",
      "len(activated_right_lane): 954\n",
      "taking slice from 560:600\n",
      "changing left window center from 192 -> 159\n",
      "taking slice from 560:600\n",
      "changing right window center from 1112 -> 1112\n",
      "left_lane_bottom_left: (92, 560) left_lane_top_right: (292, 600)\n",
      "right_lane_bottom_left: (1012, 560) right_lane_top_right: (1212, 600)\n",
      "min_x: 59 max_x: 259 min_y: 520 max_y: 560\n",
      "len(activated_left_lane): 1841\n",
      "min_x: 1012 max_x: 1212 min_y: 520 max_y: 560\n",
      "len(activated_right_lane): 933\n",
      "taking slice from 520:560\n",
      "changing left window center from 159 -> 162\n",
      "taking slice from 520:560\n",
      "changing right window center from 1112 -> 1105\n",
      "left_lane_bottom_left: (59, 520) left_lane_top_right: (259, 560)\n",
      "right_lane_bottom_left: (1012, 520) right_lane_top_right: (1212, 560)\n",
      "min_x: 62 max_x: 262 min_y: 480 max_y: 520\n",
      "len(activated_left_lane): 2058\n",
      "min_x: 1005 max_x: 1205 min_y: 480 max_y: 520\n",
      "len(activated_right_lane): 902\n",
      "taking slice from 480:520\n",
      "changing left window center from 162 -> 166\n",
      "taking slice from 480:520\n",
      "changing right window center from 1105 -> 1102\n",
      "left_lane_bottom_left: (62, 480) left_lane_top_right: (262, 520)\n",
      "right_lane_bottom_left: (1005, 480) right_lane_top_right: (1205, 520)\n",
      "min_x: 66 max_x: 266 min_y: 440 max_y: 480\n",
      "len(activated_left_lane): 2005\n",
      "min_x: 1002 max_x: 1202 min_y: 440 max_y: 480\n",
      "len(activated_right_lane): 818\n",
      "taking slice from 440:480\n",
      "changing left window center from 166 -> 166\n",
      "taking slice from 440:480\n",
      "changing right window center from 1102 -> 1098\n",
      "left_lane_bottom_left: (66, 440) left_lane_top_right: (266, 480)\n",
      "right_lane_bottom_left: (1002, 440) right_lane_top_right: (1202, 480)\n",
      "min_x: 66 max_x: 266 min_y: 400 max_y: 440\n",
      "len(activated_left_lane): 2260\n",
      "min_x: 998 max_x: 1198 min_y: 400 max_y: 440\n",
      "len(activated_right_lane): 442\n",
      "taking slice from 400:440\n",
      "changing left window center from 166 -> 165\n",
      "taking slice from 400:440\n",
      "changing right window center from 1098 -> 1096\n",
      "left_lane_bottom_left: (66, 400) left_lane_top_right: (266, 440)\n",
      "right_lane_bottom_left: (998, 400) right_lane_top_right: (1198, 440)\n",
      "min_x: 65 max_x: 265 min_y: 360 max_y: 400\n",
      "len(activated_left_lane): 2235\n",
      "min_x: 996 max_x: 1196 min_y: 360 max_y: 400\n",
      "len(activated_right_lane): 0\n",
      "taking slice from 360:400\n",
      "changing left window center from 165 -> 171\n",
      "left_lane_bottom_left: (65, 360) left_lane_top_right: (265, 400)\n",
      "right_lane_bottom_left: (996, 360) right_lane_top_right: (1196, 400)\n"
     ]
    },
    {
     "data": {
      "text/plain": [
       "<matplotlib.image.AxesImage at 0x12bd31dd8>"
      ]
     },
     "execution_count": 55,
     "metadata": {},
     "output_type": "execute_result"
    },
    {
     "data": {
      "image/png": "[encoded data removed]",
      "text/plain": [
       "<Figure size 432x288 with 1 Axes>"
      ]
     },
     "metadata": {
      "needs_background": "light"
     },
     "output_type": "display_data"
    }
   ],
   "source": [
    "# Create empty lists to receive left and right lane pixel coords\n",
    "left_lane_coords = []\n",
    "right_lane_coords = []\n",
    "\n",
    "shift_y = binary_warped_top_half.shape[0]\n",
    "for window in reversed(range(nwindows)):\n",
    "    \n",
    "    # this is the \"bottom\" in the reference frame of the image coord system, but \n",
    "    # the \"top\" if you're looking at it in the (flipped) screen coord system.\n",
    "    win_y_bottom = window * window_height + shift_y\n",
    "    \n",
    "    # conversely, this is the \"top\" in the reference frame of the image coord system\n",
    "    win_y_top = (window+1) * window_height + shift_y\n",
    "    \n",
    "    # Calculate left left x coords\n",
    "    left_lane_bottom_left_pt_x = int(leftx_current - margin)  \n",
    "    left_lane_top_right_x = int(leftx_current + margin)\n",
    "\n",
    "    # Calculate left lane rectangle points\n",
    "    left_lane_bottom_left = (left_lane_bottom_left_pt_x, win_y_bottom)\n",
    "    left_lane_top_right = (left_lane_top_right_x, win_y_top)\n",
    "    \n",
    "    # Calculate right light x coords\n",
    "    right_lane_bottom_left_pt_x = int(rightx_current - margin)  \n",
    "    right_lane_top_right_x = int(rightx_current + margin)\n",
    "\n",
    "    # Calculate right lane rectangle points\n",
    "    right_lane_bottom_left = (right_lane_bottom_left_pt_x, win_y_bottom)\n",
    "    right_lane_top_right = (right_lane_top_right_x, win_y_top)\n",
    "    \n",
    "    # Now that we know the boundaries of our window, find out which activated \n",
    "    # pixels from nonzeroy and nonzerox above actually fall into the window.\n",
    "    activated_left_lane = get_activated_window(\n",
    "        left_lane_bottom_left, \n",
    "        left_lane_top_right, \n",
    "        binary_warped.nonzero())\n",
    "    print(\"len(activated_left_lane): {}\".format(len(activated_left_lane)))\n",
    "    left_lane_coords.append(activated_left_lane)\n",
    "    \n",
    "    activated_right_lane = get_activated_window(\n",
    "        right_lane_bottom_left, \n",
    "        right_lane_top_right, \n",
    "        binary_warped.nonzero())\n",
    "    print(\"len(activated_right_lane): {}\".format(len(activated_right_lane)))\n",
    "    right_lane_coords.append(activated_right_lane)\n",
    "    \n",
    "    # If the number of pixels you found in Step 4 are greater than your \n",
    "    # hyperparameter minpix, re-center our window (i.e. leftx_current or rightx_current) based on the mean position of these pixels.\n",
    "    leftx_current = get_updated_window_center(\n",
    "        leftx_current,\n",
    "        left_lane_bottom_left, \n",
    "        left_lane_top_right, \n",
    "        activated_left_lane,\n",
    "        is_left=True,\n",
    "    )\n",
    "    rightx_current = get_updated_window_center(\n",
    "        rightx_current,\n",
    "        right_lane_bottom_left, \n",
    "        right_lane_top_right, \n",
    "        activated_right_lane,\n",
    "        is_left=False,\n",
    "    )\n",
    "    \n",
    "    cv2.rectangle(out_img, left_lane_bottom_left, left_lane_top_right, 255, 5)\n",
    "    \n",
    "    # Append these to our lists left_lane_inds and right_lane_inds.\n",
    "    \n",
    "    print(\"left_lane_bottom_left: {} left_lane_top_right: {}\".format(left_lane_bottom_left, left_lane_top_right))\n",
    "    print(\"right_lane_bottom_left: {} right_lane_top_right: {}\".format(right_lane_bottom_left, right_lane_top_right))\n",
    "\n",
    "plt.imshow(out_img)"
   ]
  },
  {
   "cell_type": "code",
   "execution_count": null,
   "metadata": {},
   "outputs": [],
   "source": [
    "\n",
    "    \n",
    "    "
   ]
  },
  {
   "cell_type": "code",
   "execution_count": null,
   "metadata": {},
   "outputs": [],
   "source": [
    "for window in range(1):\n",
    "    print(\"leftx_current: {}, rightx_current: {}, window_height: {}\".format(leftx_current, rightx_current, window_height))\n",
    "    \n",
    "    left_lane_bottom_left_pt_y = int(window * window_height)\n",
    "    left_lane_bottom_left_pt_x = int(leftx_current - margin)  \n",
    "    left_lane_top_right_y = int((window * window_height) - window_height)\n",
    "    left_lane_top_right_x = int(leftx_current + margin)\n",
    "    \n",
    "    left_lane_bottom_left = (left_lane_bottom_left_pt_x, left_lane_bottom_left_pt_y)\n",
    "    left_lane_top_right = (left_lane_top_right_x, left_lane_top_right_y)\n",
    "    \n",
    "    print(\"left_lane_bottom_left: {}, left_lane_top_right: {}\".format(left_lane_bottom_left, left_lane_top_right))\n",
    "    #cv2.rectangle(binary_warped, bottom_left, top_right, (255,0,0), 5)  # TypeError: an integer is required (got type tuple)\n",
    "    #cv2.rectangle(binary_warped, bottom_left, top_right, 255)\n",
    "    \n",
    "    #print(window)\n",
    "    \n",
    "#plt.imshow(cv2.cvtColor(binary_warped, cv2.COLOR_BGR2GRAY), cmap='gray')\n"
   ]
  },
  {
   "cell_type": "code",
   "execution_count": null,
   "metadata": {},
   "outputs": [],
   "source": [
    "help(cv2.rectangle)"
   ]
  },
  {
   "cell_type": "code",
   "execution_count": null,
   "metadata": {},
   "outputs": [],
   "source": []
  }
 ],
 "metadata": {
  "kernelspec": {
   "display_name": "Python 3",
   "language": "python",
   "name": "python3"
  },
  "language_info": {
   "codemirror_mode": {
    "name": "ipython",
    "version": 3
   },
   "file_extension": ".py",
   "mimetype": "text/x-python",
   "name": "python",
   "nbconvert_exporter": "python",
   "pygments_lexer": "ipython3",
   "version": "3.7.3"
  }
 },
 "nbformat": 4,
 "nbformat_minor": 2
}
