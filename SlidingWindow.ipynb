{
 "cells": [
  {
   "cell_type": "code",
   "execution_count": 1,
   "metadata": {},
   "outputs": [],
   "source": [
    "import numpy as np\n",
    "import matplotlib.pyplot as plt\n",
    "import cv2"
   ]
  },
  {
   "cell_type": "code",
   "execution_count": 56,
   "metadata": {},
   "outputs": [
    {
     "name": "stdout",
     "output_type": "stream",
     "text": [
      "binary_warped.shape: (720, 1280)\n"
     ]
    },
    {
     "data": {
      "text/plain": [
       "[<matplotlib.lines.Line2D at 0x12c1fb668>]"
      ]
     },
     "execution_count": 56,
     "metadata": {},
     "output_type": "execute_result"
    },
    {
     "data": {
      "image/png": "[encoded data removed]",
      "text/plain": [
       "<Figure size 432x288 with 1 Axes>"
      ]
     },
     "metadata": {
      "needs_background": "light"
     },
     "output_type": "display_data"
    }
   ],
   "source": [
    "image_name = \"intermediate_images/test5-warped-binary.jpg\"\n",
    "binary_warped = cv2.imread(image_name, cv2.IMREAD_GRAYSCALE) # IMREAD_GRAYSCALE needed b/c of: https://stackoverflow.com/questions/18870603/in-opencv-python-why-am-i-getting-3-channel-images-from-a-grayscale-image\n",
    "print(\"binary_warped.shape: {}\".format(binary_warped.shape))\n",
    "binary_warped_top_half = binary_warped[binary_warped.shape[0]//2:,:]\n",
    "\n",
    "histogram = np.sum(binary_warped_top_half, axis=0)\n",
    "plt.plot(histogram)"
   ]
  },
  {
   "cell_type": "code",
   "execution_count": 57,
   "metadata": {},
   "outputs": [
    {
     "name": "stdout",
     "output_type": "stream",
     "text": [
      "histo shape: (1280,)\n",
      "max: 0\n",
      "midpoint: 640, leftx_base: 171, rightx_base: 1112\n"
     ]
    }
   ],
   "source": [
    "\n",
    "midpoint = np.int(histogram.shape[0]//2)\n",
    "leftx_base = np.argmax(histogram[:midpoint])\n",
    "rightx_base = np.argmax(histogram[midpoint:]) + midpoint\n",
    "print(\"histo shape: {}\".format(histogram.shape))\n",
    "max_val = np.argmax(histogram[:][0])\n",
    "print(\"max: {}\".format(max_val))\n",
    "print(\"midpoint: {}, leftx_base: {}, rightx_base: {}\".format(midpoint, leftx_base, rightx_base))"
   ]
  },
  {
   "cell_type": "markdown",
   "metadata": {},
   "source": [
    "## Split histogram into individual lanes"
   ]
  },
  {
   "cell_type": "code",
   "execution_count": 58,
   "metadata": {},
   "outputs": [],
   "source": [
    "\n",
    "# Create an output image to draw on and visualize the result\n",
    "out_img = np.dstack((binary_warped, binary_warped, binary_warped))*255\n",
    "# Find the peak of the left and right halves of the histogram\n",
    "# These will be the starting point for the left and right lines\n",
    "midpoint = np.int(histogram.shape[0]//2)\n",
    "leftx_base = np.argmax(histogram[:midpoint])\n",
    "rightx_base = np.argmax(histogram[midpoint:]) + midpoint"
   ]
  },
  {
   "cell_type": "markdown",
   "metadata": {},
   "source": [
    "## Set up windows and window hyperparameters\n"
   ]
  },
  {
   "cell_type": "code",
   "execution_count": 59,
   "metadata": {},
   "outputs": [],
   "source": [
    "# HYPERPARAMETERS\n",
    "# Choose the number of sliding windows\n",
    "nwindows = 9\n",
    "# Set the width of the windows +/- margin\n",
    "margin = 100\n",
    "# Set minimum number of pixels found to recenter window\n",
    "minpix = 50\n",
    "\n",
    "# Set height of windows - based on nwindows above and image shape\n",
    "window_height = np.int(binary_warped_top_half.shape[0]//nwindows)\n",
    "    \n",
    "# Identify the x and y positions of all nonzero (i.e. activated) pixels in the image\n",
    "# Returns a row_major tuple of: (y_coords, x_coords)\n",
    "nonzero = binary_warped_top_half.nonzero()\n",
    "nonzeroy = np.array(nonzero[0])\n",
    "nonzerox = np.array(nonzero[1])\n",
    "\n",
    "# Current positions to be updated later for each window in nwindows\n",
    "leftx_current = leftx_base\n",
    "rightx_current = rightx_base\n",
    "\n",
    "# Create empty lists to receive left and right lane pixel indices\n",
    "left_lane_inds = []\n",
    "right_lane_inds = []"
   ]
  },
  {
   "cell_type": "code",
   "execution_count": 31,
   "metadata": {},
   "outputs": [
    {
     "name": "stdout",
     "output_type": "stream",
     "text": [
      "binary_warped_top_half.shape: (360, 1280)\n",
      "21038\n"
     ]
    }
   ],
   "source": [
    "print(\"binary_warped_top_half.shape: {}\".format(binary_warped_top_half.shape))\n",
    "print(len(binary_warped_top_half.nonzero()[0]))\n"
   ]
  },
  {
   "cell_type": "markdown",
   "metadata": {},
   "source": [
    "## Iterate through nwindows to track curvature"
   ]
  },
  {
   "cell_type": "markdown",
   "metadata": {},
   "source": [
    "- Loop through each window in `nwindows`\n",
    "- Find the boundaries of our current window. This is based on a combination of the current window's starting point (`leftx_current` and `rightx_current`), as well as the `margin` you set in the hyperparameters.\n",
    "- Use `cv2.rectangle` to draw these window boundaries onto our visualization image out_img. This is required for the quiz, but you can skip this step in practice if you don't need to visualize where the windows are.\n",
    "- Now that we know the boundaries of our window, find out which activated pixels from `nonzeroy` and `nonzerox` above actually fall into the window.\n",
    "- Append these to our lists `left_lane_inds` and `right_lane_inds`.\n",
    "- If the number of pixels you found in Step 4 are greater than your hyperparameter minpix, re-center our window (i.e. `leftx_current` or `rightx_current`) based on the mean position of these pixels."
   ]
  },
  {
   "cell_type": "code",
   "execution_count": 51,
   "metadata": {},
   "outputs": [
    {
     "name": "stdout",
     "output_type": "stream",
     "text": [
      "binary_warped_top_half.shape: (360, 1280)\n",
      "left_lane_bottom_left: (71, 720), left_lane_top_right: (271, 680)\n"
     ]
    },
    {
     "data": {
      "text/plain": [
       "<matplotlib.image.AxesImage at 0x12b5166d8>"
      ]
     },
     "execution_count": 51,
     "metadata": {},
     "output_type": "execute_result"
    },
    {
     "data": {
      "image/png": "[encoded data removed]",
      "text/plain": [
       "<Figure size 432x288 with 1 Axes>"
      ]
     },
     "metadata": {
      "needs_background": "light"
     },
     "output_type": "display_data"
    }
   ],
   "source": [
    "# Experiment with a single window\n",
    "\n",
    "print(\"binary_warped_top_half.shape: {}\".format(binary_warped_top_half.shape))\n",
    "window = 9\n",
    "shift_y = binary_warped_top_half.shape[0]\n",
    "\n",
    "left_lane_bottom_left_pt_y = int(window * window_height) + shift_y\n",
    "left_lane_bottom_left_pt_x = int(leftx_current - margin)  \n",
    "left_lane_top_right_y = int((window * window_height) - window_height) + shift_y\n",
    "left_lane_top_right_x = int(leftx_current + margin)\n",
    "\n",
    "left_lane_bottom_left = (left_lane_bottom_left_pt_x, left_lane_bottom_left_pt_y)\n",
    "left_lane_top_right = (left_lane_top_right_x, left_lane_top_right_y)\n",
    "\n",
    "print(\"left_lane_bottom_left: {}, left_lane_top_right: {}\".format(left_lane_bottom_left, left_lane_top_right))\n",
    "cv2.rectangle(out_img, left_lane_bottom_left, left_lane_top_right, 255, 5)\n",
    "plt.imshow(out_img)"
   ]
  },
  {
   "cell_type": "code",
   "execution_count": 61,
   "metadata": {},
   "outputs": [],
   "source": [
    "# Helper function to find out which activated \n",
    "# pixels from nonzeroy and nonzerox above actually fall into the window.\n",
    "def get_activated_window(pt1, pt2, nonzero_pts):\n",
    "\n",
    "    # find min x coord\n",
    "    min_x = min(pt1[0], pt2[0])\n",
    "    \n",
    "    # find max x coord\n",
    "    max_x = max(pt1[0], pt2[0])\n",
    "    \n",
    "    # find min y coord\n",
    "    min_y = min(pt1[1], pt2[1])\n",
    "    \n",
    "    # find max y coord\n",
    "    max_y = max(pt1[1], pt2[1])\n",
    "\n",
    "    # return filtered nonzero tuple where points fall within window\n",
    "    nonzero_filtered = [nonzero_pt for nonzero_pt in np.transpose(nonzero_pts) \n",
    "                        if (nonzero_pt[0] >= min_y and \n",
    "                            nonzero_pt[0] <= max_y and\n",
    "                            nonzero_pt[1] >= min_x and\n",
    "                            nonzero_pt[1] <= max_x) ]\n",
    "    \n",
    "    # print(\"min_x: {} max_x: {} min_y: {} max_y: {}\".format(min_x, max_x, min_y, max_y))\n",
    "                                     \n",
    "    return nonzero_filtered\n"
   ]
  },
  {
   "cell_type": "code",
   "execution_count": 64,
   "metadata": {},
   "outputs": [],
   "source": [
    "def get_updated_window_center(\n",
    "        current_window_center,\n",
    "        pt1, \n",
    "        pt2, \n",
    "        activated,\n",
    "        is_left):\n",
    "    \n",
    "    if len(activated) < minpix:\n",
    "        return current_window_center\n",
    "        \n",
    "    # Loop over all the coords in activated and average the X coord \n",
    "    x_activated = [pt[1] for pt in activated]\n",
    "    new_base = np.int(np.mean(x_activated))\n",
    "    \n",
    "    if is_left:\n",
    "        print(\"changing left window center from {} -> {}\".format(current_window_center, new_base))\n",
    "\n",
    "        return new_base\n",
    "    else:\n",
    "        print(\"changing right window center from {} -> {}\".format(current_window_center, new_base))\n",
    "\n",
    "        return new_base\n",
    "    \n",
    "    "
   ]
  },
  {
   "cell_type": "code",
   "execution_count": 65,
   "metadata": {},
   "outputs": [
    {
     "name": "stdout",
     "output_type": "stream",
     "text": [
      "len(activated_left_lane): 1143\n",
      "len(activated_right_lane): 0\n",
      "changing left window center from 169 -> 169\n",
      "left_lane_bottom_left: (69, 680) left_lane_top_right: (269, 720)\n",
      "right_lane_bottom_left: (1012, 680) right_lane_top_right: (1212, 720)\n",
      "len(activated_left_lane): 1644\n",
      "len(activated_right_lane): 0\n",
      "changing left window center from 169 -> 170\n",
      "left_lane_bottom_left: (69, 640) left_lane_top_right: (269, 680)\n",
      "right_lane_bottom_left: (1012, 640) right_lane_top_right: (1212, 680)\n",
      "len(activated_left_lane): 2118\n",
      "len(activated_right_lane): 248\n",
      "changing left window center from 170 -> 181\n",
      "changing right window center from 1112 -> 1122\n",
      "left_lane_bottom_left: (70, 600) left_lane_top_right: (270, 640)\n",
      "right_lane_bottom_left: (1012, 600) right_lane_top_right: (1212, 640)\n",
      "len(activated_left_lane): 1937\n",
      "len(activated_right_lane): 954\n",
      "changing left window center from 181 -> 177\n",
      "changing right window center from 1122 -> 1118\n",
      "left_lane_bottom_left: (81, 560) left_lane_top_right: (281, 600)\n",
      "right_lane_bottom_left: (1022, 560) right_lane_top_right: (1222, 600)\n",
      "len(activated_left_lane): 1841\n",
      "len(activated_right_lane): 933\n",
      "changing left window center from 177 -> 180\n",
      "changing right window center from 1118 -> 1114\n",
      "left_lane_bottom_left: (77, 520) left_lane_top_right: (277, 560)\n",
      "right_lane_bottom_left: (1018, 520) right_lane_top_right: (1218, 560)\n",
      "len(activated_left_lane): 2058\n",
      "len(activated_right_lane): 902\n",
      "changing left window center from 180 -> 186\n",
      "changing right window center from 1114 -> 1110\n",
      "left_lane_bottom_left: (80, 480) left_lane_top_right: (280, 520)\n",
      "right_lane_bottom_left: (1014, 480) right_lane_top_right: (1214, 520)\n",
      "len(activated_left_lane): 2005\n",
      "len(activated_right_lane): 818\n",
      "changing left window center from 186 -> 187\n",
      "changing right window center from 1110 -> 1105\n",
      "left_lane_bottom_left: (86, 440) left_lane_top_right: (286, 480)\n",
      "right_lane_bottom_left: (1010, 440) right_lane_top_right: (1210, 480)\n",
      "len(activated_left_lane): 2260\n",
      "len(activated_right_lane): 442\n",
      "changing left window center from 187 -> 189\n",
      "changing right window center from 1105 -> 1102\n",
      "left_lane_bottom_left: (87, 400) left_lane_top_right: (287, 440)\n",
      "right_lane_bottom_left: (1005, 400) right_lane_top_right: (1205, 440)\n",
      "len(activated_left_lane): 2235\n",
      "len(activated_right_lane): 0\n",
      "changing left window center from 189 -> 191\n",
      "left_lane_bottom_left: (89, 360) left_lane_top_right: (289, 400)\n",
      "right_lane_bottom_left: (1002, 360) right_lane_top_right: (1202, 400)\n"
     ]
    },
    {
     "data": {
      "text/plain": [
       "<matplotlib.image.AxesImage at 0x12cc64b00>"
      ]
     },
     "execution_count": 65,
     "metadata": {},
     "output_type": "execute_result"
    },
    {
     "data": {
      "image/png": "[encoded data removed]",
      "text/plain": [
       "<Figure size 432x288 with 1 Axes>"
      ]
     },
     "metadata": {
      "needs_background": "light"
     },
     "output_type": "display_data"
    }
   ],
   "source": [
    "# Create empty lists to receive left and right lane pixel coords\n",
    "left_lane_coords = []\n",
    "right_lane_coords = []\n",
    "\n",
    "shift_y = binary_warped_top_half.shape[0]\n",
    "for window in reversed(range(nwindows)):\n",
    "    \n",
    "    # this is the \"bottom\" in the reference frame of the image coord system, but \n",
    "    # the \"top\" if you're looking at it in the (flipped) screen coord system.\n",
    "    win_y_bottom = window * window_height + shift_y\n",
    "    \n",
    "    # conversely, this is the \"top\" in the reference frame of the image coord system\n",
    "    win_y_top = (window+1) * window_height + shift_y\n",
    "    \n",
    "    # Calculate left left x coords\n",
    "    left_lane_bottom_left_pt_x = int(leftx_current - margin)  \n",
    "    left_lane_top_right_x = int(leftx_current + margin)\n",
    "\n",
    "    # Calculate left lane rectangle points\n",
    "    left_lane_bottom_left = (left_lane_bottom_left_pt_x, win_y_bottom)\n",
    "    left_lane_top_right = (left_lane_top_right_x, win_y_top)\n",
    "    \n",
    "    # Calculate right light x coords\n",
    "    right_lane_bottom_left_pt_x = int(rightx_current - margin)  \n",
    "    right_lane_top_right_x = int(rightx_current + margin)\n",
    "\n",
    "    # Calculate right lane rectangle points\n",
    "    right_lane_bottom_left = (right_lane_bottom_left_pt_x, win_y_bottom)\n",
    "    right_lane_top_right = (right_lane_top_right_x, win_y_top)\n",
    "    \n",
    "    # Now that we know the boundaries of our window, find out which activated \n",
    "    # pixels from nonzeroy and nonzerox above actually fall into the window.\n",
    "    activated_left_lane = get_activated_window(\n",
    "        left_lane_bottom_left, \n",
    "        left_lane_top_right, \n",
    "        binary_warped.nonzero())\n",
    "    print(\"len(activated_left_lane): {}\".format(len(activated_left_lane)))\n",
    "    left_lane_coords.append(activated_left_lane)\n",
    "    \n",
    "    activated_right_lane = get_activated_window(\n",
    "        right_lane_bottom_left, \n",
    "        right_lane_top_right, \n",
    "        binary_warped.nonzero())\n",
    "    print(\"len(activated_right_lane): {}\".format(len(activated_right_lane)))\n",
    "    right_lane_coords.append(activated_right_lane)\n",
    "    \n",
    "    # If the number of pixels you found in Step 4 are greater than your \n",
    "    # hyperparameter minpix, re-center our window (i.e. leftx_current or rightx_current) based on the mean position of these pixels.\n",
    "    leftx_current = get_updated_window_center(\n",
    "        leftx_current,\n",
    "        left_lane_bottom_left, \n",
    "        left_lane_top_right, \n",
    "        activated_left_lane,\n",
    "        is_left=True,\n",
    "    )\n",
    "    rightx_current = get_updated_window_center(\n",
    "        rightx_current,\n",
    "        right_lane_bottom_left, \n",
    "        right_lane_top_right, \n",
    "        activated_right_lane,\n",
    "        is_left=False,\n",
    "    )\n",
    "    \n",
    "    cv2.rectangle(out_img, left_lane_bottom_left, left_lane_top_right, 255, 5)\n",
    "    \n",
    "    # Append these to our lists left_lane_inds and right_lane_inds.\n",
    "    \n",
    "    print(\"left_lane_bottom_left: {} left_lane_top_right: {}\".format(left_lane_bottom_left, left_lane_top_right))\n",
    "    print(\"right_lane_bottom_left: {} right_lane_top_right: {}\".format(right_lane_bottom_left, right_lane_top_right))\n",
    "\n",
    "plt.imshow(out_img)"
   ]
  },
  {
   "cell_type": "code",
   "execution_count": null,
   "metadata": {},
   "outputs": [],
   "source": [
    "\n",
    "    \n",
    "    "
   ]
  },
  {
   "cell_type": "code",
   "execution_count": null,
   "metadata": {},
   "outputs": [],
   "source": [
    "for window in range(1):\n",
    "    print(\"leftx_current: {}, rightx_current: {}, window_height: {}\".format(leftx_current, rightx_current, window_height))\n",
    "    \n",
    "    left_lane_bottom_left_pt_y = int(window * window_height)\n",
    "    left_lane_bottom_left_pt_x = int(leftx_current - margin)  \n",
    "    left_lane_top_right_y = int((window * window_height) - window_height)\n",
    "    left_lane_top_right_x = int(leftx_current + margin)\n",
    "    \n",
    "    left_lane_bottom_left = (left_lane_bottom_left_pt_x, left_lane_bottom_left_pt_y)\n",
    "    left_lane_top_right = (left_lane_top_right_x, left_lane_top_right_y)\n",
    "    \n",
    "    print(\"left_lane_bottom_left: {}, left_lane_top_right: {}\".format(left_lane_bottom_left, left_lane_top_right))\n",
    "    #cv2.rectangle(binary_warped, bottom_left, top_right, (255,0,0), 5)  # TypeError: an integer is required (got type tuple)\n",
    "    #cv2.rectangle(binary_warped, bottom_left, top_right, 255)\n",
    "    \n",
    "    #print(window)\n",
    "    \n",
    "#plt.imshow(cv2.cvtColor(binary_warped, cv2.COLOR_BGR2GRAY), cmap='gray')\n"
   ]
  },
  {
   "cell_type": "code",
   "execution_count": null,
   "metadata": {},
   "outputs": [],
   "source": [
    "help(cv2.rectangle)"
   ]
  },
  {
   "cell_type": "code",
   "execution_count": null,
   "metadata": {},
   "outputs": [],
   "source": []
  }
 ],
 "metadata": {
  "kernelspec": {
   "display_name": "Python 3",
   "language": "python",
   "name": "python3"
  },
  "language_info": {
   "codemirror_mode": {
    "name": "ipython",
    "version": 3
   },
   "file_extension": ".py",
   "mimetype": "text/x-python",
   "name": "python",
   "nbconvert_exporter": "python",
   "pygments_lexer": "ipython3",
   "version": "3.7.3"
  }
 },
 "nbformat": 4,
 "nbformat_minor": 2
}
